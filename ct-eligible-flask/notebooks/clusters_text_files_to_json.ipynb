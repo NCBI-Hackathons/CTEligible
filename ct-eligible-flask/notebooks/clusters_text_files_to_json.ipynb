{
 "cells": [
  {
   "cell_type": "markdown",
   "metadata": {},
   "source": [
    "This takes the existing flat cluster files and generates a single JSON to be added to the DB."
   ]
  },
  {
   "cell_type": "code",
   "execution_count": 1,
   "metadata": {
    "collapsed": true
   },
   "outputs": [],
   "source": [
    "import csv\n",
    "import json\n",
    "import os\n",
    "import shutil\n",
    "import zipfile"
   ]
  },
  {
   "cell_type": "code",
   "execution_count": 2,
   "metadata": {
    "collapsed": false
   },
   "outputs": [],
   "source": [
    "os.chdir('../../other_data/clusters/')\n",
    "file_path = 'clusters_with_text.zip'\n",
    "\n",
    "to_dir = '_unzip'\n",
    "if not os.path.exists(to_dir):\n",
    "    os.makedirs(to_dir)"
   ]
  },
  {
   "cell_type": "code",
   "execution_count": 3,
   "metadata": {
    "collapsed": true
   },
   "outputs": [],
   "source": [
    "zip_ref = zipfile.ZipFile(file_path, 'r')\n",
    "zip_ref.extractall(to_dir)"
   ]
  },
  {
   "cell_type": "code",
   "execution_count": 4,
   "metadata": {
    "collapsed": true
   },
   "outputs": [],
   "source": [
    "def get_cluster_text(cluster_dir):\n",
    "    cluster_text = {}\n",
    "\n",
    "    for file in os.listdir(cluster_dir):\n",
    "        if os.path.isfile(file):\n",
    "            cluster_file = os.path.join(cluster_dir, file)\n",
    "            cluster_name = os.path.basename(cluster_file)\n",
    "\n",
    "            phrases = []\n",
    "            with open(cluster_file, 'r') as file_reader:\n",
    "                reader = csv.reader(file_reader, delimiter=' ')\n",
    "                for row in reader:\n",
    "                    text = row[1].strip()\n",
    "                    phrases.append(text)\n",
    "\n",
    "            cluster_text[cluster_name] = phrases\n",
    "\n",
    "    return cluster_text"
   ]
  },
  {
   "cell_type": "code",
   "execution_count": 5,
   "metadata": {
    "collapsed": false
   },
   "outputs": [],
   "source": [
    "clust_text = get_cluster_text(to_dir)\n",
    "\n",
    "out_list = []\n",
    "\n",
    "for key, val in clust_text.items():\n",
    "    out_list.append({\n",
    "            '_id': key,\n",
    "            'suggestions': val,\n",
    "        })\n",
    "\n",
    "with open('clusters.json', 'w') as f:\n",
    "    json.dump(out_list, f)"
   ]
  },
  {
   "cell_type": "code",
   "execution_count": 6,
   "metadata": {
    "collapsed": true
   },
   "outputs": [],
   "source": [
    "shutil.rmtree(to_dir)"
   ]
  }
 ],
 "metadata": {
  "kernelspec": {
   "display_name": "Python 3",
   "language": "python",
   "name": "python3"
  },
  "language_info": {
   "codemirror_mode": {
    "name": "ipython",
    "version": 3
   },
   "file_extension": ".py",
   "mimetype": "text/x-python",
   "name": "python",
   "nbconvert_exporter": "python",
   "pygments_lexer": "ipython3",
   "version": "3.4.4"
  }
 },
 "nbformat": 4,
 "nbformat_minor": 2
}
